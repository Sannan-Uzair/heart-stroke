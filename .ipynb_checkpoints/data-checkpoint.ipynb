{
 "cells": [
  {
   "cell_type": "code",
   "execution_count": 126,
   "metadata": {
    "executionInfo": {
     "elapsed": 1557,
     "status": "ok",
     "timestamp": 1620900811100,
     "user": {
      "displayName": "Sannan uzair",
      "photoUrl": "https://lh3.googleusercontent.com/a-/AOh14GgiuW4D3dSDM0jgt9pmffE9IB14_iustfe4XWa5nQ=s64",
      "userId": "05625466627393382408"
     },
     "user_tz": -300
    },
    "id": "7W5gVmtH0_Hh"
   },
   "outputs": [],
   "source": [
    "import numpy as np\n",
    "import pandas as pd\n",
    "import matplotlib.pyplot as plt\n",
    "import seaborn as sns"
   ]
  },
  {
   "cell_type": "code",
   "execution_count": 127,
   "metadata": {
    "colab": {
     "base_uri": "https://localhost:8080/",
     "height": 258
    },
    "executionInfo": {
     "elapsed": 2435,
     "status": "ok",
     "timestamp": 1620900812000,
     "user": {
      "displayName": "Sannan uzair",
      "photoUrl": "https://lh3.googleusercontent.com/a-/AOh14GgiuW4D3dSDM0jgt9pmffE9IB14_iustfe4XWa5nQ=s64",
      "userId": "05625466627393382408"
     },
     "user_tz": -300
    },
    "id": "H3l--qsO1POj",
    "outputId": "5e4355aa-9d21-4233-8d6d-d7e441a4158b"
   },
   "outputs": [
    {
     "data": {
      "text/html": [
       "<div>\n",
       "<style scoped>\n",
       "    .dataframe tbody tr th:only-of-type {\n",
       "        vertical-align: middle;\n",
       "    }\n",
       "\n",
       "    .dataframe tbody tr th {\n",
       "        vertical-align: top;\n",
       "    }\n",
       "\n",
       "    .dataframe thead th {\n",
       "        text-align: right;\n",
       "    }\n",
       "</style>\n",
       "<table border=\"1\" class=\"dataframe\">\n",
       "  <thead>\n",
       "    <tr style=\"text-align: right;\">\n",
       "      <th></th>\n",
       "      <th>id</th>\n",
       "      <th>gender</th>\n",
       "      <th>age</th>\n",
       "      <th>hypertension</th>\n",
       "      <th>heart_disease</th>\n",
       "      <th>ever_married</th>\n",
       "      <th>work_type</th>\n",
       "      <th>Residence_type</th>\n",
       "      <th>avg_glucose_level</th>\n",
       "      <th>bmi</th>\n",
       "      <th>smoking_status</th>\n",
       "      <th>stroke</th>\n",
       "    </tr>\n",
       "  </thead>\n",
       "  <tbody>\n",
       "    <tr>\n",
       "      <th>0</th>\n",
       "      <td>9046</td>\n",
       "      <td>Male</td>\n",
       "      <td>67.0</td>\n",
       "      <td>0</td>\n",
       "      <td>1</td>\n",
       "      <td>Yes</td>\n",
       "      <td>Private</td>\n",
       "      <td>Urban</td>\n",
       "      <td>228.69</td>\n",
       "      <td>36.6</td>\n",
       "      <td>formerly smoked</td>\n",
       "      <td>1</td>\n",
       "    </tr>\n",
       "    <tr>\n",
       "      <th>1</th>\n",
       "      <td>51676</td>\n",
       "      <td>Female</td>\n",
       "      <td>61.0</td>\n",
       "      <td>0</td>\n",
       "      <td>0</td>\n",
       "      <td>Yes</td>\n",
       "      <td>Self-employed</td>\n",
       "      <td>Rural</td>\n",
       "      <td>202.21</td>\n",
       "      <td>NaN</td>\n",
       "      <td>never smoked</td>\n",
       "      <td>1</td>\n",
       "    </tr>\n",
       "    <tr>\n",
       "      <th>2</th>\n",
       "      <td>31112</td>\n",
       "      <td>Male</td>\n",
       "      <td>80.0</td>\n",
       "      <td>0</td>\n",
       "      <td>1</td>\n",
       "      <td>Yes</td>\n",
       "      <td>Private</td>\n",
       "      <td>Rural</td>\n",
       "      <td>105.92</td>\n",
       "      <td>32.5</td>\n",
       "      <td>never smoked</td>\n",
       "      <td>1</td>\n",
       "    </tr>\n",
       "    <tr>\n",
       "      <th>3</th>\n",
       "      <td>60182</td>\n",
       "      <td>Female</td>\n",
       "      <td>49.0</td>\n",
       "      <td>0</td>\n",
       "      <td>0</td>\n",
       "      <td>Yes</td>\n",
       "      <td>Private</td>\n",
       "      <td>Urban</td>\n",
       "      <td>171.23</td>\n",
       "      <td>34.4</td>\n",
       "      <td>smokes</td>\n",
       "      <td>1</td>\n",
       "    </tr>\n",
       "    <tr>\n",
       "      <th>4</th>\n",
       "      <td>1665</td>\n",
       "      <td>Female</td>\n",
       "      <td>79.0</td>\n",
       "      <td>1</td>\n",
       "      <td>0</td>\n",
       "      <td>Yes</td>\n",
       "      <td>Self-employed</td>\n",
       "      <td>Rural</td>\n",
       "      <td>174.12</td>\n",
       "      <td>24.0</td>\n",
       "      <td>never smoked</td>\n",
       "      <td>1</td>\n",
       "    </tr>\n",
       "  </tbody>\n",
       "</table>\n",
       "</div>"
      ],
      "text/plain": [
       "      id  gender   age  ...   bmi   smoking_status stroke\n",
       "0   9046    Male  67.0  ...  36.6  formerly smoked      1\n",
       "1  51676  Female  61.0  ...   NaN     never smoked      1\n",
       "2  31112    Male  80.0  ...  32.5     never smoked      1\n",
       "3  60182  Female  49.0  ...  34.4           smokes      1\n",
       "4   1665  Female  79.0  ...  24.0     never smoked      1\n",
       "\n",
       "[5 rows x 12 columns]"
      ]
     },
     "execution_count": 127,
     "metadata": {
      "tags": []
     },
     "output_type": "execute_result"
    }
   ],
   "source": [
    "df = pd.read_csv(\"healthcare-dataset-stroke-data.csv\")\n",
    "df.head()"
   ]
  },
  {
   "cell_type": "code",
   "execution_count": 128,
   "metadata": {
    "colab": {
     "base_uri": "https://localhost:8080/"
    },
    "executionInfo": {
     "elapsed": 2415,
     "status": "ok",
     "timestamp": 1620900812002,
     "user": {
      "displayName": "Sannan uzair",
      "photoUrl": "https://lh3.googleusercontent.com/a-/AOh14GgiuW4D3dSDM0jgt9pmffE9IB14_iustfe4XWa5nQ=s64",
      "userId": "05625466627393382408"
     },
     "user_tz": -300
    },
    "id": "zTAz5jkcQRn0",
    "outputId": "80c0995d-1362-42eb-fe75-b72623c423bf"
   },
   "outputs": [
    {
     "data": {
      "text/plain": [
       "5110"
      ]
     },
     "execution_count": 128,
     "metadata": {
      "tags": []
     },
     "output_type": "execute_result"
    }
   ],
   "source": [
    "len(df)"
   ]
  },
  {
   "cell_type": "code",
   "execution_count": 129,
   "metadata": {
    "colab": {
     "base_uri": "https://localhost:8080/"
    },
    "executionInfo": {
     "elapsed": 2397,
     "status": "ok",
     "timestamp": 1620900812005,
     "user": {
      "displayName": "Sannan uzair",
      "photoUrl": "https://lh3.googleusercontent.com/a-/AOh14GgiuW4D3dSDM0jgt9pmffE9IB14_iustfe4XWa5nQ=s64",
      "userId": "05625466627393382408"
     },
     "user_tz": -300
    },
    "id": "w1dZqjX61Z4w",
    "outputId": "e13f3fb6-87de-44aa-d529-c84661ecdc01"
   },
   "outputs": [
    {
     "data": {
      "text/plain": [
       "id                     0\n",
       "gender                 0\n",
       "age                    0\n",
       "hypertension           0\n",
       "heart_disease          0\n",
       "ever_married           0\n",
       "work_type              0\n",
       "Residence_type         0\n",
       "avg_glucose_level      0\n",
       "bmi                  201\n",
       "smoking_status         0\n",
       "stroke                 0\n",
       "dtype: int64"
      ]
     },
     "execution_count": 129,
     "metadata": {
      "tags": []
     },
     "output_type": "execute_result"
    }
   ],
   "source": [
    "df.isna().sum()"
   ]
  },
  {
   "cell_type": "code",
   "execution_count": 130,
   "metadata": {
    "colab": {
     "base_uri": "https://localhost:8080/"
    },
    "executionInfo": {
     "elapsed": 2381,
     "status": "ok",
     "timestamp": 1620900812008,
     "user": {
      "displayName": "Sannan uzair",
      "photoUrl": "https://lh3.googleusercontent.com/a-/AOh14GgiuW4D3dSDM0jgt9pmffE9IB14_iustfe4XWa5nQ=s64",
      "userId": "05625466627393382408"
     },
     "user_tz": -300
    },
    "id": "1Vndm8LV1jre",
    "outputId": "3c2b5f4b-1d7b-4fec-de07-47ff4fe93f20"
   },
   "outputs": [
    {
     "data": {
      "text/plain": [
       "28.893236911794673"
      ]
     },
     "execution_count": 130,
     "metadata": {
      "tags": []
     },
     "output_type": "execute_result"
    }
   ],
   "source": [
    "avg = df[\"bmi\"].mean()\n",
    "avg"
   ]
  },
  {
   "cell_type": "code",
   "execution_count": 131,
   "metadata": {
    "executionInfo": {
     "elapsed": 2370,
     "status": "ok",
     "timestamp": 1620900812011,
     "user": {
      "displayName": "Sannan uzair",
      "photoUrl": "https://lh3.googleusercontent.com/a-/AOh14GgiuW4D3dSDM0jgt9pmffE9IB14_iustfe4XWa5nQ=s64",
      "userId": "05625466627393382408"
     },
     "user_tz": -300
    },
    "id": "bJ7kXnE11ote"
   },
   "outputs": [],
   "source": [
    "df.bmi = (df.bmi.fillna(28.74))"
   ]
  },
  {
   "cell_type": "code",
   "execution_count": 132,
   "metadata": {
    "colab": {
     "base_uri": "https://localhost:8080/"
    },
    "executionInfo": {
     "elapsed": 2359,
     "status": "ok",
     "timestamp": 1620900812012,
     "user": {
      "displayName": "Sannan uzair",
      "photoUrl": "https://lh3.googleusercontent.com/a-/AOh14GgiuW4D3dSDM0jgt9pmffE9IB14_iustfe4XWa5nQ=s64",
      "userId": "05625466627393382408"
     },
     "user_tz": -300
    },
    "id": "tBWC-Z9l1yK1",
    "outputId": "3a4a3e73-7181-4fb2-8c3b-c6463a492360"
   },
   "outputs": [
    {
     "data": {
      "text/plain": [
       "id                   0\n",
       "gender               0\n",
       "age                  0\n",
       "hypertension         0\n",
       "heart_disease        0\n",
       "ever_married         0\n",
       "work_type            0\n",
       "Residence_type       0\n",
       "avg_glucose_level    0\n",
       "bmi                  0\n",
       "smoking_status       0\n",
       "stroke               0\n",
       "dtype: int64"
      ]
     },
     "execution_count": 132,
     "metadata": {
      "tags": []
     },
     "output_type": "execute_result"
    }
   ],
   "source": [
    "df.isna().sum()"
   ]
  },
  {
   "cell_type": "code",
   "execution_count": 133,
   "metadata": {
    "colab": {
     "base_uri": "https://localhost:8080/"
    },
    "executionInfo": {
     "elapsed": 2348,
     "status": "ok",
     "timestamp": 1620900812015,
     "user": {
      "displayName": "Sannan uzair",
      "photoUrl": "https://lh3.googleusercontent.com/a-/AOh14GgiuW4D3dSDM0jgt9pmffE9IB14_iustfe4XWa5nQ=s64",
      "userId": "05625466627393382408"
     },
     "user_tz": -300
    },
    "id": "wfnfjFgG10KY",
    "outputId": "e1428862-2c2e-4fca-a1bb-16094ffb0caa"
   },
   "outputs": [
    {
     "name": "stdout",
     "output_type": "stream",
     "text": [
      "<class 'pandas.core.frame.DataFrame'>\n",
      "RangeIndex: 5110 entries, 0 to 5109\n",
      "Data columns (total 12 columns):\n",
      " #   Column             Non-Null Count  Dtype  \n",
      "---  ------             --------------  -----  \n",
      " 0   id                 5110 non-null   int64  \n",
      " 1   gender             5110 non-null   object \n",
      " 2   age                5110 non-null   float64\n",
      " 3   hypertension       5110 non-null   int64  \n",
      " 4   heart_disease      5110 non-null   int64  \n",
      " 5   ever_married       5110 non-null   object \n",
      " 6   work_type          5110 non-null   object \n",
      " 7   Residence_type     5110 non-null   object \n",
      " 8   avg_glucose_level  5110 non-null   float64\n",
      " 9   bmi                5110 non-null   float64\n",
      " 10  smoking_status     5110 non-null   object \n",
      " 11  stroke             5110 non-null   int64  \n",
      "dtypes: float64(3), int64(4), object(5)\n",
      "memory usage: 479.2+ KB\n"
     ]
    }
   ],
   "source": [
    "df.info()"
   ]
  },
  {
   "cell_type": "code",
   "execution_count": 134,
   "metadata": {
    "colab": {
     "base_uri": "https://localhost:8080/",
     "height": 297
    },
    "executionInfo": {
     "elapsed": 2336,
     "status": "ok",
     "timestamp": 1620900812018,
     "user": {
      "displayName": "Sannan uzair",
      "photoUrl": "https://lh3.googleusercontent.com/a-/AOh14GgiuW4D3dSDM0jgt9pmffE9IB14_iustfe4XWa5nQ=s64",
      "userId": "05625466627393382408"
     },
     "user_tz": -300
    },
    "id": "GWv_n23113kk",
    "outputId": "f96ad295-dcd9-45da-ffce-639317181ab7"
   },
   "outputs": [
    {
     "data": {
      "text/html": [
       "<div>\n",
       "<style scoped>\n",
       "    .dataframe tbody tr th:only-of-type {\n",
       "        vertical-align: middle;\n",
       "    }\n",
       "\n",
       "    .dataframe tbody tr th {\n",
       "        vertical-align: top;\n",
       "    }\n",
       "\n",
       "    .dataframe thead th {\n",
       "        text-align: right;\n",
       "    }\n",
       "</style>\n",
       "<table border=\"1\" class=\"dataframe\">\n",
       "  <thead>\n",
       "    <tr style=\"text-align: right;\">\n",
       "      <th></th>\n",
       "      <th>id</th>\n",
       "      <th>age</th>\n",
       "      <th>hypertension</th>\n",
       "      <th>heart_disease</th>\n",
       "      <th>avg_glucose_level</th>\n",
       "      <th>bmi</th>\n",
       "      <th>stroke</th>\n",
       "    </tr>\n",
       "  </thead>\n",
       "  <tbody>\n",
       "    <tr>\n",
       "      <th>count</th>\n",
       "      <td>5110.000000</td>\n",
       "      <td>5110.000000</td>\n",
       "      <td>5110.000000</td>\n",
       "      <td>5110.000000</td>\n",
       "      <td>5110.000000</td>\n",
       "      <td>5110.000000</td>\n",
       "      <td>5110.000000</td>\n",
       "    </tr>\n",
       "    <tr>\n",
       "      <th>mean</th>\n",
       "      <td>36517.829354</td>\n",
       "      <td>43.226614</td>\n",
       "      <td>0.097456</td>\n",
       "      <td>0.054012</td>\n",
       "      <td>106.147677</td>\n",
       "      <td>28.887209</td>\n",
       "      <td>0.048728</td>\n",
       "    </tr>\n",
       "    <tr>\n",
       "      <th>std</th>\n",
       "      <td>21161.721625</td>\n",
       "      <td>22.612647</td>\n",
       "      <td>0.296607</td>\n",
       "      <td>0.226063</td>\n",
       "      <td>45.283560</td>\n",
       "      <td>7.698075</td>\n",
       "      <td>0.215320</td>\n",
       "    </tr>\n",
       "    <tr>\n",
       "      <th>min</th>\n",
       "      <td>67.000000</td>\n",
       "      <td>0.080000</td>\n",
       "      <td>0.000000</td>\n",
       "      <td>0.000000</td>\n",
       "      <td>55.120000</td>\n",
       "      <td>10.300000</td>\n",
       "      <td>0.000000</td>\n",
       "    </tr>\n",
       "    <tr>\n",
       "      <th>25%</th>\n",
       "      <td>17741.250000</td>\n",
       "      <td>25.000000</td>\n",
       "      <td>0.000000</td>\n",
       "      <td>0.000000</td>\n",
       "      <td>77.245000</td>\n",
       "      <td>23.800000</td>\n",
       "      <td>0.000000</td>\n",
       "    </tr>\n",
       "    <tr>\n",
       "      <th>50%</th>\n",
       "      <td>36932.000000</td>\n",
       "      <td>45.000000</td>\n",
       "      <td>0.000000</td>\n",
       "      <td>0.000000</td>\n",
       "      <td>91.885000</td>\n",
       "      <td>28.400000</td>\n",
       "      <td>0.000000</td>\n",
       "    </tr>\n",
       "    <tr>\n",
       "      <th>75%</th>\n",
       "      <td>54682.000000</td>\n",
       "      <td>61.000000</td>\n",
       "      <td>0.000000</td>\n",
       "      <td>0.000000</td>\n",
       "      <td>114.090000</td>\n",
       "      <td>32.800000</td>\n",
       "      <td>0.000000</td>\n",
       "    </tr>\n",
       "    <tr>\n",
       "      <th>max</th>\n",
       "      <td>72940.000000</td>\n",
       "      <td>82.000000</td>\n",
       "      <td>1.000000</td>\n",
       "      <td>1.000000</td>\n",
       "      <td>271.740000</td>\n",
       "      <td>97.600000</td>\n",
       "      <td>1.000000</td>\n",
       "    </tr>\n",
       "  </tbody>\n",
       "</table>\n",
       "</div>"
      ],
      "text/plain": [
       "                 id          age  ...          bmi       stroke\n",
       "count   5110.000000  5110.000000  ...  5110.000000  5110.000000\n",
       "mean   36517.829354    43.226614  ...    28.887209     0.048728\n",
       "std    21161.721625    22.612647  ...     7.698075     0.215320\n",
       "min       67.000000     0.080000  ...    10.300000     0.000000\n",
       "25%    17741.250000    25.000000  ...    23.800000     0.000000\n",
       "50%    36932.000000    45.000000  ...    28.400000     0.000000\n",
       "75%    54682.000000    61.000000  ...    32.800000     0.000000\n",
       "max    72940.000000    82.000000  ...    97.600000     1.000000\n",
       "\n",
       "[8 rows x 7 columns]"
      ]
     },
     "execution_count": 134,
     "metadata": {
      "tags": []
     },
     "output_type": "execute_result"
    }
   ],
   "source": [
    "df.describe()"
   ]
  },
  {
   "cell_type": "code",
   "execution_count": 135,
   "metadata": {
    "colab": {
     "base_uri": "https://localhost:8080/",
     "height": 357
    },
    "executionInfo": {
     "elapsed": 3051,
     "status": "ok",
     "timestamp": 1620900812757,
     "user": {
      "displayName": "Sannan uzair",
      "photoUrl": "https://lh3.googleusercontent.com/a-/AOh14GgiuW4D3dSDM0jgt9pmffE9IB14_iustfe4XWa5nQ=s64",
      "userId": "05625466627393382408"
     },
     "user_tz": -300
    },
    "id": "8lUF9qjN168j",
    "outputId": "33165f07-648c-4a87-b465-de143b48ac0e"
   },
   "outputs": [
    {
     "name": "stderr",
     "output_type": "stream",
     "text": [
      "/usr/local/lib/python3.7/dist-packages/seaborn/_decorators.py:43: FutureWarning: Pass the following variable as a keyword arg: x. From version 0.12, the only valid positional argument will be `data`, and passing other arguments without an explicit keyword will result in an error or misinterpretation.\n",
      "  FutureWarning\n"
     ]
    },
    {
     "data": {
      "text/plain": [
       "<matplotlib.axes._subplots.AxesSubplot at 0x7f637faf47d0>"
      ]
     },
     "execution_count": 135,
     "metadata": {
      "tags": []
     },
     "output_type": "execute_result"
    },
    {
     "data": {
      "image/png": "[encoded data removed]",
      "text/plain": [
       "<Figure size 432x288 with 1 Axes>"
      ]
     },
     "metadata": {
      "tags": []
     },
     "output_type": "display_data"
    }
   ],
   "source": [
    "sns.countplot(df[\"work_type\"])"
   ]
  },
  {
   "cell_type": "code",
   "execution_count": 136,
   "metadata": {
    "colab": {
     "base_uri": "https://localhost:8080/",
     "height": 356
    },
    "executionInfo": {
     "elapsed": 3038,
     "status": "ok",
     "timestamp": 1620900812761,
     "user": {
      "displayName": "Sannan uzair",
      "photoUrl": "https://lh3.googleusercontent.com/a-/AOh14GgiuW4D3dSDM0jgt9pmffE9IB14_iustfe4XWa5nQ=s64",
      "userId": "05625466627393382408"
     },
     "user_tz": -300
    },
    "id": "DLE-RDPt2GWM",
    "outputId": "e1685a3e-e132-4d57-c170-c982ed8ef4b9"
   },
   "outputs": [
    {
     "name": "stderr",
     "output_type": "stream",
     "text": [
      "/usr/local/lib/python3.7/dist-packages/seaborn/_decorators.py:43: FutureWarning: Pass the following variable as a keyword arg: x. From version 0.12, the only valid positional argument will be `data`, and passing other arguments without an explicit keyword will result in an error or misinterpretation.\n",
      "  FutureWarning\n"
     ]
    },
    {
     "data": {
      "text/plain": [
       "<matplotlib.axes._subplots.AxesSubplot at 0x7f637e1ef510>"
      ]
     },
     "execution_count": 136,
     "metadata": {
      "tags": []
     },
     "output_type": "execute_result"
    },
    {
     "data": {
      "image/png": "[encoded data removed]",
      "text/plain": [
       "<Figure size 432x288 with 1 Axes>"
      ]
     },
     "metadata": {
      "tags": []
     },
     "output_type": "display_data"
    }
   ],
   "source": [
    "sns.countplot(df[\"Residence_type\"])"
   ]
  },
  {
   "cell_type": "code",
   "execution_count": 137,
   "metadata": {
    "colab": {
     "base_uri": "https://localhost:8080/",
     "height": 356
    },
    "executionInfo": {
     "elapsed": 3023,
     "status": "ok",
     "timestamp": 1620900812763,
     "user": {
      "displayName": "Sannan uzair",
      "photoUrl": "https://lh3.googleusercontent.com/a-/AOh14GgiuW4D3dSDM0jgt9pmffE9IB14_iustfe4XWa5nQ=s64",
      "userId": "05625466627393382408"
     },
     "user_tz": -300
    },
    "id": "mBVzYKsb2Qj-",
    "outputId": "54f19e81-c73f-45bd-d8f6-23675eb08652"
   },
   "outputs": [
    {
     "name": "stderr",
     "output_type": "stream",
     "text": [
      "/usr/local/lib/python3.7/dist-packages/seaborn/_decorators.py:43: FutureWarning: Pass the following variable as a keyword arg: x. From version 0.12, the only valid positional argument will be `data`, and passing other arguments without an explicit keyword will result in an error or misinterpretation.\n",
      "  FutureWarning\n"
     ]
    },
    {
     "data": {
      "text/plain": [
       "<matplotlib.axes._subplots.AxesSubplot at 0x7f637e62b3d0>"
      ]
     },
     "execution_count": 137,
     "metadata": {
      "tags": []
     },
     "output_type": "execute_result"
    },
    {
     "data": {
      "image/png": "[encoded data removed]",
      "text/plain": [
       "<Figure size 432x288 with 1 Axes>"
      ]
     },
     "metadata": {
      "tags": []
     },
     "output_type": "display_data"
    }
   ],
   "source": [
    "sns.countplot(df[\"smoking_status\"])"
   ]
  },
  {
   "cell_type": "code",
   "execution_count": 138,
   "metadata": {
    "colab": {
     "base_uri": "https://localhost:8080/",
     "height": 356
    },
    "executionInfo": {
     "elapsed": 3008,
     "status": "ok",
     "timestamp": 1620900812767,
     "user": {
      "displayName": "Sannan uzair",
      "photoUrl": "https://lh3.googleusercontent.com/a-/AOh14GgiuW4D3dSDM0jgt9pmffE9IB14_iustfe4XWa5nQ=s64",
      "userId": "05625466627393382408"
     },
     "user_tz": -300
    },
    "id": "L0TFN6Qd2VHc",
    "outputId": "09468356-3d88-42fe-f5d2-737c69895d9e"
   },
   "outputs": [
    {
     "name": "stderr",
     "output_type": "stream",
     "text": [
      "/usr/local/lib/python3.7/dist-packages/seaborn/_decorators.py:43: FutureWarning: Pass the following variable as a keyword arg: x. From version 0.12, the only valid positional argument will be `data`, and passing other arguments without an explicit keyword will result in an error or misinterpretation.\n",
      "  FutureWarning\n"
     ]
    },
    {
     "data": {
      "text/plain": [
       "<matplotlib.axes._subplots.AxesSubplot at 0x7f637e5372d0>"
      ]
     },
     "execution_count": 138,
     "metadata": {
      "tags": []
     },
     "output_type": "execute_result"
    },
    {
     "data": {
      "image/png": "[encoded data removed]",
      "text/plain": [
       "<Figure size 432x288 with 1 Axes>"
      ]
     },
     "metadata": {
      "tags": []
     },
     "output_type": "display_data"
    }
   ],
   "source": [
    "sns.countplot(df[\"stroke\"])"
   ]
  },
  {
   "cell_type": "code",
   "execution_count": 139,
   "metadata": {
    "colab": {
     "base_uri": "https://localhost:8080/",
     "height": 359
    },
    "executionInfo": {
     "elapsed": 2994,
     "status": "ok",
     "timestamp": 1620900812769,
     "user": {
      "displayName": "Sannan uzair",
      "photoUrl": "https://lh3.googleusercontent.com/a-/AOh14GgiuW4D3dSDM0jgt9pmffE9IB14_iustfe4XWa5nQ=s64",
      "userId": "05625466627393382408"
     },
     "user_tz": -300
    },
    "id": "7CmJdIyL2ZGH",
    "outputId": "dc8a3d0f-0763-4871-fd6c-d9bcd3474f47"
   },
   "outputs": [
    {
     "name": "stderr",
     "output_type": "stream",
     "text": [
      "/usr/local/lib/python3.7/dist-packages/seaborn/_decorators.py:43: FutureWarning: Pass the following variable as a keyword arg: x. From version 0.12, the only valid positional argument will be `data`, and passing other arguments without an explicit keyword will result in an error or misinterpretation.\n",
      "  FutureWarning\n"
     ]
    },
    {
     "data": {
      "text/plain": [
       "<matplotlib.axes._subplots.AxesSubplot at 0x7f637e6ef950>"
      ]
     },
     "execution_count": 139,
     "metadata": {
      "tags": []
     },
     "output_type": "execute_result"
    },
    {
     "data": {
      "image/png": "[encoded data removed]",
      "text/plain": [
       "<Figure size 432x288 with 1 Axes>"
      ]
     },
     "metadata": {
      "tags": []
     },
     "output_type": "display_data"
    }
   ],
   "source": [
    "sns.countplot(df[\"ever_married\"])"
   ]
  },
  {
   "cell_type": "code",
   "execution_count": 140,
   "metadata": {
    "colab": {
     "base_uri": "https://localhost:8080/"
    },
    "executionInfo": {
     "elapsed": 3725,
     "status": "ok",
     "timestamp": 1620900813515,
     "user": {
      "displayName": "Sannan uzair",
      "photoUrl": "https://lh3.googleusercontent.com/a-/AOh14GgiuW4D3dSDM0jgt9pmffE9IB14_iustfe4XWa5nQ=s64",
      "userId": "05625466627393382408"
     },
     "user_tz": -300
    },
    "id": "QtwIb9TZ2djf",
    "outputId": "2d6e9e07-4220-44b5-9375-c8770eeca036"
   },
   "outputs": [
    {
     "data": {
      "text/plain": [
       "55.12"
      ]
     },
     "execution_count": 140,
     "metadata": {
      "tags": []
     },
     "output_type": "execute_result"
    }
   ],
   "source": [
    "min(df[\"avg_glucose_level\"])"
   ]
  },
  {
   "cell_type": "code",
   "execution_count": 141,
   "metadata": {
    "colab": {
     "base_uri": "https://localhost:8080/"
    },
    "executionInfo": {
     "elapsed": 3712,
     "status": "ok",
     "timestamp": 1620900813516,
     "user": {
      "displayName": "Sannan uzair",
      "photoUrl": "https://lh3.googleusercontent.com/a-/AOh14GgiuW4D3dSDM0jgt9pmffE9IB14_iustfe4XWa5nQ=s64",
      "userId": "05625466627393382408"
     },
     "user_tz": -300
    },
    "id": "uD09k53w2nLq",
    "outputId": "912175f1-a516-4714-dab4-39120d0c83d5"
   },
   "outputs": [
    {
     "data": {
      "text/plain": [
       "271.74"
      ]
     },
     "execution_count": 141,
     "metadata": {
      "tags": []
     },
     "output_type": "execute_result"
    }
   ],
   "source": [
    "max(df[\"avg_glucose_level\"])"
   ]
  },
  {
   "cell_type": "code",
   "execution_count": 142,
   "metadata": {
    "colab": {
     "base_uri": "https://localhost:8080/",
     "height": 356
    },
    "executionInfo": {
     "elapsed": 3698,
     "status": "ok",
     "timestamp": 1620900813518,
     "user": {
      "displayName": "Sannan uzair",
      "photoUrl": "https://lh3.googleusercontent.com/a-/AOh14GgiuW4D3dSDM0jgt9pmffE9IB14_iustfe4XWa5nQ=s64",
      "userId": "05625466627393382408"
     },
     "user_tz": -300
    },
    "id": "EgMxvGBd2t9n",
    "outputId": "369448c4-805e-4bf2-f508-7166fa0abd26"
   },
   "outputs": [
    {
     "name": "stderr",
     "output_type": "stream",
     "text": [
      "/usr/local/lib/python3.7/dist-packages/seaborn/distributions.py:2557: FutureWarning: `distplot` is a deprecated function and will be removed in a future version. Please adapt your code to use either `displot` (a figure-level function with similar flexibility) or `histplot` (an axes-level function for histograms).\n",
      "  warnings.warn(msg, FutureWarning)\n"
     ]
    },
    {
     "data": {
      "text/plain": [
       "<matplotlib.axes._subplots.AxesSubplot at 0x7f637fb93a50>"
      ]
     },
     "execution_count": 142,
     "metadata": {
      "tags": []
     },
     "output_type": "execute_result"
    },
    {
     "data": {
      "image/png": "[encoded data removed]",
      "text/plain": [
       "<Figure size 432x288 with 1 Axes>"
      ]
     },
     "metadata": {
      "tags": []
     },
     "output_type": "display_data"
    }
   ],
   "source": [
    "sns.distplot(df[\"age\"])"
   ]
  },
  {
   "cell_type": "code",
   "execution_count": 143,
   "metadata": {
    "colab": {
     "base_uri": "https://localhost:8080/",
     "height": 356
    },
    "executionInfo": {
     "elapsed": 3680,
     "status": "ok",
     "timestamp": 1620900813519,
     "user": {
      "displayName": "Sannan uzair",
      "photoUrl": "https://lh3.googleusercontent.com/a-/AOh14GgiuW4D3dSDM0jgt9pmffE9IB14_iustfe4XWa5nQ=s64",
      "userId": "05625466627393382408"
     },
     "user_tz": -300
    },
    "id": "iYdgIMrp3Itd",
    "outputId": "edfb397d-b6d9-478c-fa63-1b853fbac2ce"
   },
   "outputs": [
    {
     "name": "stderr",
     "output_type": "stream",
     "text": [
      "/usr/local/lib/python3.7/dist-packages/seaborn/distributions.py:2557: FutureWarning: `distplot` is a deprecated function and will be removed in a future version. Please adapt your code to use either `displot` (a figure-level function with similar flexibility) or `histplot` (an axes-level function for histograms).\n",
      "  warnings.warn(msg, FutureWarning)\n"
     ]
    },
    {
     "data": {
      "text/plain": [
       "<matplotlib.axes._subplots.AxesSubplot at 0x7f637fc91310>"
      ]
     },
     "execution_count": 143,
     "metadata": {
      "tags": []
     },
     "output_type": "execute_result"
    },
    {
     "data": {
      "image/png": "[encoded data removed]",
      "text/plain": [
       "<Figure size 432x288 with 1 Axes>"
      ]
     },
     "metadata": {
      "tags": []
     },
     "output_type": "display_data"
    }
   ],
   "source": [
    "sns.distplot(df[\"avg_glucose_level\"])"
   ]
  },
  {
   "cell_type": "code",
   "execution_count": 143,
   "metadata": {
    "executionInfo": {
     "elapsed": 3668,
     "status": "ok",
     "timestamp": 1620900813520,
     "user": {
      "displayName": "Sannan uzair",
      "photoUrl": "https://lh3.googleusercontent.com/a-/AOh14GgiuW4D3dSDM0jgt9pmffE9IB14_iustfe4XWa5nQ=s64",
      "userId": "05625466627393382408"
     },
     "user_tz": -300
    },
    "id": "WdGx1fNdLAgl"
   },
   "outputs": [],
   "source": []
  },
  {
   "cell_type": "code",
   "execution_count": 143,
   "metadata": {
    "executionInfo": {
     "elapsed": 3660,
     "status": "ok",
     "timestamp": 1620900813521,
     "user": {
      "displayName": "Sannan uzair",
      "photoUrl": "https://lh3.googleusercontent.com/a-/AOh14GgiuW4D3dSDM0jgt9pmffE9IB14_iustfe4XWa5nQ=s64",
      "userId": "05625466627393382408"
     },
     "user_tz": -300
    },
    "id": "DubT72JKLB4z"
   },
   "outputs": [],
   "source": []
  },
  {
   "cell_type": "code",
   "execution_count": 144,
   "metadata": {
    "executionInfo": {
     "elapsed": 3651,
     "status": "ok",
     "timestamp": 1620900813522,
     "user": {
      "displayName": "Sannan uzair",
      "photoUrl": "https://lh3.googleusercontent.com/a-/AOh14GgiuW4D3dSDM0jgt9pmffE9IB14_iustfe4XWa5nQ=s64",
      "userId": "05625466627393382408"
     },
     "user_tz": -300
    },
    "id": "j-fI0VHBMI3Y"
   },
   "outputs": [],
   "source": [
    "df['gender'] = df['gender'].map({'Male':0, 'Female':1})\n",
    "df['ever_married'] = df['ever_married'].map({'Yes':0, 'No':1})\n",
    "df['work_type'] = df['work_type'].map({'Private':0, 'Self-employed': 1, 'Govt_job':2, 'children':3, 'Never_worked':4})\n",
    "df['Residence_type'] = df['Residence_type'].map({'Urban':0, 'Rural':1})\n",
    "df['smoking_status'] = df['smoking_status'].map({'formerly smoked':0, 'never smoked':1, 'smokes':2, 'Unknown':3})"
   ]
  },
  {
   "cell_type": "code",
   "execution_count": 145,
   "metadata": {
    "colab": {
     "base_uri": "https://localhost:8080/",
     "height": 439
    },
    "executionInfo": {
     "elapsed": 4078,
     "status": "ok",
     "timestamp": 1620900813961,
     "user": {
      "displayName": "Sannan uzair",
      "photoUrl": "https://lh3.googleusercontent.com/a-/AOh14GgiuW4D3dSDM0jgt9pmffE9IB14_iustfe4XWa5nQ=s64",
      "userId": "05625466627393382408"
     },
     "user_tz": -300
    },
    "id": "ALN9f4IBMSln",
    "outputId": "881daa01-1b49-4e89-b86f-cbcfeca024bc"
   },
   "outputs": [
    {
     "data": {
      "text/html": [
       "<div>\n",
       "<style scoped>\n",
       "    .dataframe tbody tr th:only-of-type {\n",
       "        vertical-align: middle;\n",
       "    }\n",
       "\n",
       "    .dataframe tbody tr th {\n",
       "        vertical-align: top;\n",
       "    }\n",
       "\n",
       "    .dataframe thead th {\n",
       "        text-align: right;\n",
       "    }\n",
       "</style>\n",
       "<table border=\"1\" class=\"dataframe\">\n",
       "  <thead>\n",
       "    <tr style=\"text-align: right;\">\n",
       "      <th></th>\n",
       "      <th>id</th>\n",
       "      <th>gender</th>\n",
       "      <th>age</th>\n",
       "      <th>hypertension</th>\n",
       "      <th>heart_disease</th>\n",
       "      <th>ever_married</th>\n",
       "      <th>work_type</th>\n",
       "      <th>Residence_type</th>\n",
       "      <th>avg_glucose_level</th>\n",
       "      <th>bmi</th>\n",
       "      <th>smoking_status</th>\n",
       "      <th>stroke</th>\n",
       "    </tr>\n",
       "  </thead>\n",
       "  <tbody>\n",
       "    <tr>\n",
       "      <th>0</th>\n",
       "      <td>9046</td>\n",
       "      <td>0.0</td>\n",
       "      <td>67.0</td>\n",
       "      <td>0</td>\n",
       "      <td>1</td>\n",
       "      <td>0</td>\n",
       "      <td>0</td>\n",
       "      <td>0</td>\n",
       "      <td>228.69</td>\n",
       "      <td>36.60</td>\n",
       "      <td>0</td>\n",
       "      <td>1</td>\n",
       "    </tr>\n",
       "    <tr>\n",
       "      <th>1</th>\n",
       "      <td>51676</td>\n",
       "      <td>1.0</td>\n",
       "      <td>61.0</td>\n",
       "      <td>0</td>\n",
       "      <td>0</td>\n",
       "      <td>0</td>\n",
       "      <td>1</td>\n",
       "      <td>1</td>\n",
       "      <td>202.21</td>\n",
       "      <td>28.74</td>\n",
       "      <td>1</td>\n",
       "      <td>1</td>\n",
       "    </tr>\n",
       "    <tr>\n",
       "      <th>2</th>\n",
       "      <td>31112</td>\n",
       "      <td>0.0</td>\n",
       "      <td>80.0</td>\n",
       "      <td>0</td>\n",
       "      <td>1</td>\n",
       "      <td>0</td>\n",
       "      <td>0</td>\n",
       "      <td>1</td>\n",
       "      <td>105.92</td>\n",
       "      <td>32.50</td>\n",
       "      <td>1</td>\n",
       "      <td>1</td>\n",
       "    </tr>\n",
       "    <tr>\n",
       "      <th>3</th>\n",
       "      <td>60182</td>\n",
       "      <td>1.0</td>\n",
       "      <td>49.0</td>\n",
       "      <td>0</td>\n",
       "      <td>0</td>\n",
       "      <td>0</td>\n",
       "      <td>0</td>\n",
       "      <td>0</td>\n",
       "      <td>171.23</td>\n",
       "      <td>34.40</td>\n",
       "      <td>2</td>\n",
       "      <td>1</td>\n",
       "    </tr>\n",
       "    <tr>\n",
       "      <th>4</th>\n",
       "      <td>1665</td>\n",
       "      <td>1.0</td>\n",
       "      <td>79.0</td>\n",
       "      <td>1</td>\n",
       "      <td>0</td>\n",
       "      <td>0</td>\n",
       "      <td>1</td>\n",
       "      <td>1</td>\n",
       "      <td>174.12</td>\n",
       "      <td>24.00</td>\n",
       "      <td>1</td>\n",
       "      <td>1</td>\n",
       "    </tr>\n",
       "    <tr>\n",
       "      <th>...</th>\n",
       "      <td>...</td>\n",
       "      <td>...</td>\n",
       "      <td>...</td>\n",
       "      <td>...</td>\n",
       "      <td>...</td>\n",
       "      <td>...</td>\n",
       "      <td>...</td>\n",
       "      <td>...</td>\n",
       "      <td>...</td>\n",
       "      <td>...</td>\n",
       "      <td>...</td>\n",
       "      <td>...</td>\n",
       "    </tr>\n",
       "    <tr>\n",
       "      <th>5105</th>\n",
       "      <td>18234</td>\n",
       "      <td>1.0</td>\n",
       "      <td>80.0</td>\n",
       "      <td>1</td>\n",
       "      <td>0</td>\n",
       "      <td>0</td>\n",
       "      <td>0</td>\n",
       "      <td>0</td>\n",
       "      <td>83.75</td>\n",
       "      <td>28.74</td>\n",
       "      <td>1</td>\n",
       "      <td>0</td>\n",
       "    </tr>\n",
       "    <tr>\n",
       "      <th>5106</th>\n",
       "      <td>44873</td>\n",
       "      <td>1.0</td>\n",
       "      <td>81.0</td>\n",
       "      <td>0</td>\n",
       "      <td>0</td>\n",
       "      <td>0</td>\n",
       "      <td>1</td>\n",
       "      <td>0</td>\n",
       "      <td>125.20</td>\n",
       "      <td>40.00</td>\n",
       "      <td>1</td>\n",
       "      <td>0</td>\n",
       "    </tr>\n",
       "    <tr>\n",
       "      <th>5107</th>\n",
       "      <td>19723</td>\n",
       "      <td>1.0</td>\n",
       "      <td>35.0</td>\n",
       "      <td>0</td>\n",
       "      <td>0</td>\n",
       "      <td>0</td>\n",
       "      <td>1</td>\n",
       "      <td>1</td>\n",
       "      <td>82.99</td>\n",
       "      <td>30.60</td>\n",
       "      <td>1</td>\n",
       "      <td>0</td>\n",
       "    </tr>\n",
       "    <tr>\n",
       "      <th>5108</th>\n",
       "      <td>37544</td>\n",
       "      <td>0.0</td>\n",
       "      <td>51.0</td>\n",
       "      <td>0</td>\n",
       "      <td>0</td>\n",
       "      <td>0</td>\n",
       "      <td>0</td>\n",
       "      <td>1</td>\n",
       "      <td>166.29</td>\n",
       "      <td>25.60</td>\n",
       "      <td>0</td>\n",
       "      <td>0</td>\n",
       "    </tr>\n",
       "    <tr>\n",
       "      <th>5109</th>\n",
       "      <td>44679</td>\n",
       "      <td>1.0</td>\n",
       "      <td>44.0</td>\n",
       "      <td>0</td>\n",
       "      <td>0</td>\n",
       "      <td>0</td>\n",
       "      <td>2</td>\n",
       "      <td>0</td>\n",
       "      <td>85.28</td>\n",
       "      <td>26.20</td>\n",
       "      <td>3</td>\n",
       "      <td>0</td>\n",
       "    </tr>\n",
       "  </tbody>\n",
       "</table>\n",
       "<p>5110 rows × 12 columns</p>\n",
       "</div>"
      ],
      "text/plain": [
       "         id  gender   age  ...    bmi  smoking_status  stroke\n",
       "0      9046     0.0  67.0  ...  36.60               0       1\n",
       "1     51676     1.0  61.0  ...  28.74               1       1\n",
       "2     31112     0.0  80.0  ...  32.50               1       1\n",
       "3     60182     1.0  49.0  ...  34.40               2       1\n",
       "4      1665     1.0  79.0  ...  24.00               1       1\n",
       "...     ...     ...   ...  ...    ...             ...     ...\n",
       "5105  18234     1.0  80.0  ...  28.74               1       0\n",
       "5106  44873     1.0  81.0  ...  40.00               1       0\n",
       "5107  19723     1.0  35.0  ...  30.60               1       0\n",
       "5108  37544     0.0  51.0  ...  25.60               0       0\n",
       "5109  44679     1.0  44.0  ...  26.20               3       0\n",
       "\n",
       "[5110 rows x 12 columns]"
      ]
     },
     "execution_count": 145,
     "metadata": {
      "tags": []
     },
     "output_type": "execute_result"
    }
   ],
   "source": [
    "df"
   ]
  },
  {
   "cell_type": "code",
   "execution_count": 146,
   "metadata": {
    "colab": {
     "base_uri": "https://localhost:8080/",
     "height": 488
    },
    "executionInfo": {
     "elapsed": 5295,
     "status": "ok",
     "timestamp": 1620900815193,
     "user": {
      "displayName": "Sannan uzair",
      "photoUrl": "https://lh3.googleusercontent.com/a-/AOh14GgiuW4D3dSDM0jgt9pmffE9IB14_iustfe4XWa5nQ=s64",
      "userId": "05625466627393382408"
     },
     "user_tz": -300
    },
    "id": "u5x0eF1AMTCm",
    "outputId": "754294ba-13bd-4789-d818-63ec6f5cefd3"
   },
   "outputs": [
    {
     "data": {
      "text/plain": [
       "<matplotlib.axes._subplots.AxesSubplot at 0x7f637e223bd0>"
      ]
     },
     "execution_count": 146,
     "metadata": {
      "tags": []
     },
     "output_type": "execute_result"
    },
    {
     "data": {
      "image/png": "[encoded data removed]",
      "text/plain": [
       "<Figure size 720x432 with 2 Axes>"
      ]
     },
     "metadata": {
      "tags": []
     },
     "output_type": "display_data"
    }
   ],
   "source": [
    "plt.figure(figsize=(10,6))\n",
    "sns.heatmap(df.corr(), annot=True)"
   ]
  },
  {
   "cell_type": "code",
   "execution_count": 147,
   "metadata": {
    "colab": {
     "base_uri": "https://localhost:8080/",
     "height": 302
    },
    "executionInfo": {
     "elapsed": 6352,
     "status": "ok",
     "timestamp": 1620900816265,
     "user": {
      "displayName": "Sannan uzair",
      "photoUrl": "https://lh3.googleusercontent.com/a-/AOh14GgiuW4D3dSDM0jgt9pmffE9IB14_iustfe4XWa5nQ=s64",
      "userId": "05625466627393382408"
     },
     "user_tz": -300
    },
    "id": "c-omvLQtNa1m",
    "outputId": "5b493d60-35de-4226-b4a5-aac366892882"
   },
   "outputs": [
    {
     "data": {
      "text/plain": [
       "<matplotlib.axes._subplots.AxesSubplot at 0x7f637df10e10>"
      ]
     },
     "execution_count": 147,
     "metadata": {
      "tags": []
     },
     "output_type": "execute_result"
    },
    {
     "data": {
      "image/png": "[encoded data removed]",
      "text/plain": [
       "<Figure size 432x288 with 1 Axes>"
      ]
     },
     "metadata": {
      "tags": []
     },
     "output_type": "display_data"
    }
   ],
   "source": [
    "sns.scatterplot(x=df.age, y=df.avg_glucose_level)"
   ]
  },
  {
   "cell_type": "code",
   "execution_count": 148,
   "metadata": {
    "colab": {
     "base_uri": "https://localhost:8080/",
     "height": 399
    },
    "executionInfo": {
     "elapsed": 6338,
     "status": "ok",
     "timestamp": 1620900816267,
     "user": {
      "displayName": "Sannan uzair",
      "photoUrl": "https://lh3.googleusercontent.com/a-/AOh14GgiuW4D3dSDM0jgt9pmffE9IB14_iustfe4XWa5nQ=s64",
      "userId": "05625466627393382408"
     },
     "user_tz": -300
    },
    "id": "fbCrIDN1Nw5E",
    "outputId": "6c16f512-e2a6-45bd-a38a-59dd73787e59"
   },
   "outputs": [
    {
     "data": {
      "text/plain": [
       "<Figure size 720x432 with 0 Axes>"
      ]
     },
     "metadata": {
      "tags": []
     },
     "output_type": "display_data"
    },
    {
     "data": {
      "image/png": "[encoded data removed]",
      "text/plain": [
       "<Figure size 430.8x360 with 1 Axes>"
      ]
     },
     "metadata": {
      "tags": []
     },
     "output_type": "display_data"
    }
   ],
   "source": [
    "plt.figure(figsize=(10,6))\n",
    "sns.catplot(x=\"heart_disease\", y=\"age\", hue=\"work_type\", data=df, kind=\"bar\")\n",
    "plt.show();"
   ]
  },
  {
   "cell_type": "code",
   "execution_count": 149,
   "metadata": {
    "colab": {
     "base_uri": "https://localhost:8080/",
     "height": 399
    },
    "executionInfo": {
     "elapsed": 6931,
     "status": "ok",
     "timestamp": 1620900816875,
     "user": {
      "displayName": "Sannan uzair",
      "photoUrl": "https://lh3.googleusercontent.com/a-/AOh14GgiuW4D3dSDM0jgt9pmffE9IB14_iustfe4XWa5nQ=s64",
      "userId": "05625466627393382408"
     },
     "user_tz": -300
    },
    "id": "40PReEGyN6qZ",
    "outputId": "a92f7b6a-5309-4aef-ff96-c247c59394da"
   },
   "outputs": [
    {
     "data": {
      "text/plain": [
       "<Figure size 720x432 with 0 Axes>"
      ]
     },
     "metadata": {
      "tags": []
     },
     "output_type": "display_data"
    },
    {
     "data": {
      "image/png": "[encoded data removed]",
      "text/plain": [
       "<Figure size 430.8x360 with 1 Axes>"
      ]
     },
     "metadata": {
      "tags": []
     },
     "output_type": "display_data"
    }
   ],
   "source": [
    "plt.figure(figsize=(10,6))\n",
    "sns.catplot(x=\"hypertension\", y = \"age\", hue=\"work_type\", kind=\"bar\",data=df)\n",
    "plt.show();"
   ]
  },
  {
   "cell_type": "code",
   "execution_count": 150,
   "metadata": {
    "colab": {
     "base_uri": "https://localhost:8080/",
     "height": 399
    },
    "executionInfo": {
     "elapsed": 7526,
     "status": "ok",
     "timestamp": 1620900817486,
     "user": {
      "displayName": "Sannan uzair",
      "photoUrl": "https://lh3.googleusercontent.com/a-/AOh14GgiuW4D3dSDM0jgt9pmffE9IB14_iustfe4XWa5nQ=s64",
      "userId": "05625466627393382408"
     },
     "user_tz": -300
    },
    "id": "KPkmpuBDObQ7",
    "outputId": "afcf0d5b-0feb-4e1a-9732-00c323a23e05"
   },
   "outputs": [
    {
     "data": {
      "text/plain": [
       "<Figure size 720x432 with 0 Axes>"
      ]
     },
     "metadata": {
      "tags": []
     },
     "output_type": "display_data"
    },
    {
     "data": {
      "image/png": "[encoded data removed]",
      "text/plain": [
       "<Figure size 430.8x360 with 1 Axes>"
      ]
     },
     "metadata": {
      "tags": []
     },
     "output_type": "display_data"
    }
   ],
   "source": [
    "plt.figure(figsize=(10,6))\n",
    "sns.catplot(x=\"smoking_status\", y = \"age\", hue=\"work_type\", kind=\"bar\",data=df)\n",
    "plt.show();"
   ]
  },
  {
   "cell_type": "code",
   "execution_count": 151,
   "metadata": {
    "colab": {
     "base_uri": "https://localhost:8080/",
     "height": 399
    },
    "executionInfo": {
     "elapsed": 8537,
     "status": "ok",
     "timestamp": 1620900818516,
     "user": {
      "displayName": "Sannan uzair",
      "photoUrl": "https://lh3.googleusercontent.com/a-/AOh14GgiuW4D3dSDM0jgt9pmffE9IB14_iustfe4XWa5nQ=s64",
      "userId": "05625466627393382408"
     },
     "user_tz": -300
    },
    "id": "Fp3jLIMVOksG",
    "outputId": "22ec2a30-cf41-4af9-f4ed-8ba64ce43f6a"
   },
   "outputs": [
    {
     "data": {
      "text/plain": [
       "<seaborn.axisgrid.FacetGrid at 0x7f637de05f50>"
      ]
     },
     "execution_count": 151,
     "metadata": {
      "tags": []
     },
     "output_type": "execute_result"
    },
    {
     "data": {
      "image/png": "[encoded data removed]",
      "text/plain": [
       "<Figure size 430.8x360 with 1 Axes>"
      ]
     },
     "metadata": {
      "tags": []
     },
     "output_type": "display_data"
    }
   ],
   "source": [
    "sns.catplot(x=\"smoking_status\", y = \"stroke\", hue=\"work_type\", kind=\"bar\",data=df)"
   ]
  },
  {
   "cell_type": "code",
   "execution_count": 152,
   "metadata": {
    "colab": {
     "base_uri": "https://localhost:8080/",
     "height": 399
    },
    "executionInfo": {
     "elapsed": 9186,
     "status": "ok",
     "timestamp": 1620900819186,
     "user": {
      "displayName": "Sannan uzair",
      "photoUrl": "https://lh3.googleusercontent.com/a-/AOh14GgiuW4D3dSDM0jgt9pmffE9IB14_iustfe4XWa5nQ=s64",
      "userId": "05625466627393382408"
     },
     "user_tz": -300
    },
    "id": "85lNIB4zOpjl",
    "outputId": "c97110ef-9fc0-4c44-9692-cd233f9dc87c"
   },
   "outputs": [
    {
     "data": {
      "text/plain": [
       "<seaborn.axisgrid.FacetGrid at 0x7f637dbdbf90>"
      ]
     },
     "execution_count": 152,
     "metadata": {
      "tags": []
     },
     "output_type": "execute_result"
    },
    {
     "data": {
      "image/png": "[encoded data removed]",
      "text/plain": [
       "<Figure size 430.8x360 with 1 Axes>"
      ]
     },
     "metadata": {
      "tags": []
     },
     "output_type": "display_data"
    }
   ],
   "source": [
    "sns.catplot(x=\"hypertension\", y=\"stroke\", hue = \"work_type\" ,data=df, kind=\"bar\")"
   ]
  },
  {
   "cell_type": "code",
   "execution_count": 153,
   "metadata": {
    "colab": {
     "base_uri": "https://localhost:8080/",
     "height": 399
    },
    "executionInfo": {
     "elapsed": 9903,
     "status": "ok",
     "timestamp": 1620900819925,
     "user": {
      "displayName": "Sannan uzair",
      "photoUrl": "https://lh3.googleusercontent.com/a-/AOh14GgiuW4D3dSDM0jgt9pmffE9IB14_iustfe4XWa5nQ=s64",
      "userId": "05625466627393382408"
     },
     "user_tz": -300
    },
    "id": "4JXqgXkWPnp4",
    "outputId": "f9f1a528-c526-483e-a0fd-c49873d50088"
   },
   "outputs": [
    {
     "data": {
      "text/plain": [
       "<seaborn.axisgrid.FacetGrid at 0x7f637db40cd0>"
      ]
     },
     "execution_count": 153,
     "metadata": {
      "tags": []
     },
     "output_type": "execute_result"
    },
    {
     "data": {
      "image/png": "[encoded data removed]",
      "text/plain": [
       "<Figure size 430.8x360 with 1 Axes>"
      ]
     },
     "metadata": {
      "tags": []
     },
     "output_type": "display_data"
    }
   ],
   "source": [
    "sns.catplot(x=\"Residence_type\", y='stroke', hue=\"work_type\", data=df, kind=\"bar\")"
   ]
  },
  {
   "cell_type": "code",
   "execution_count": 154,
   "metadata": {
    "colab": {
     "base_uri": "https://localhost:8080/",
     "height": 399
    },
    "executionInfo": {
     "elapsed": 10536,
     "status": "ok",
     "timestamp": 1620900820581,
     "user": {
      "displayName": "Sannan uzair",
      "photoUrl": "https://lh3.googleusercontent.com/a-/AOh14GgiuW4D3dSDM0jgt9pmffE9IB14_iustfe4XWa5nQ=s64",
      "userId": "05625466627393382408"
     },
     "user_tz": -300
    },
    "id": "8x8nRRQGQIz1",
    "outputId": "5d0dc1f8-c7e7-4144-92e8-8fda772f3b06"
   },
   "outputs": [
    {
     "data": {
      "text/plain": [
       "<seaborn.axisgrid.FacetGrid at 0x7f637dad6bd0>"
      ]
     },
     "execution_count": 154,
     "metadata": {
      "tags": []
     },
     "output_type": "execute_result"
    },
    {
     "data": {
      "image/png": "[encoded data removed]",
      "text/plain": [
       "<Figure size 360x360 with 1 Axes>"
      ]
     },
     "metadata": {
      "tags": []
     },
     "output_type": "display_data"
    }
   ],
   "source": [
    "sns.catplot(x=\"stroke\", y=\"avg_glucose_level\", kind=\"bar\", data=df)"
   ]
  },
  {
   "cell_type": "code",
   "execution_count": 155,
   "metadata": {
    "colab": {
     "base_uri": "https://localhost:8080/",
     "height": 399
    },
    "executionInfo": {
     "elapsed": 11139,
     "status": "ok",
     "timestamp": 1620900821212,
     "user": {
      "displayName": "Sannan uzair",
      "photoUrl": "https://lh3.googleusercontent.com/a-/AOh14GgiuW4D3dSDM0jgt9pmffE9IB14_iustfe4XWa5nQ=s64",
      "userId": "05625466627393382408"
     },
     "user_tz": -300
    },
    "id": "6Cu1aEiXQcXa",
    "outputId": "810d73db-6513-4912-f2ec-4f7e58bfcca1"
   },
   "outputs": [
    {
     "data": {
      "text/plain": [
       "<seaborn.axisgrid.FacetGrid at 0x7f637e023110>"
      ]
     },
     "execution_count": 155,
     "metadata": {
      "tags": []
     },
     "output_type": "execute_result"
    },
    {
     "data": {
      "image/png": "[encoded data removed]",
      "text/plain": [
       "<Figure size 416.975x360 with 1 Axes>"
      ]
     },
     "metadata": {
      "tags": []
     },
     "output_type": "display_data"
    }
   ],
   "source": [
    "sns.catplot(x=\"stroke\", y=\"age\", hue = \"gender\" ,kind=\"bar\", data=df)"
   ]
  },
  {
   "cell_type": "code",
   "execution_count": 156,
   "metadata": {
    "colab": {
     "base_uri": "https://localhost:8080/"
    },
    "executionInfo": {
     "elapsed": 11118,
     "status": "ok",
     "timestamp": 1620900821213,
     "user": {
      "displayName": "Sannan uzair",
      "photoUrl": "https://lh3.googleusercontent.com/a-/AOh14GgiuW4D3dSDM0jgt9pmffE9IB14_iustfe4XWa5nQ=s64",
      "userId": "05625466627393382408"
     },
     "user_tz": -300
    },
    "id": "XWNS0JuwQnZ_",
    "outputId": "fe0b8263-8380-426d-b536-506f97ce9373"
   },
   "outputs": [
    {
     "data": {
      "text/plain": [
       "id                   0\n",
       "gender               1\n",
       "age                  0\n",
       "hypertension         0\n",
       "heart_disease        0\n",
       "ever_married         0\n",
       "work_type            0\n",
       "Residence_type       0\n",
       "avg_glucose_level    0\n",
       "bmi                  0\n",
       "smoking_status       0\n",
       "dtype: int64"
      ]
     },
     "execution_count": 156,
     "metadata": {
      "tags": []
     },
     "output_type": "execute_result"
    }
   ],
   "source": [
    "X = df.drop(\"stroke\", axis=1)\n",
    "y = df[\"stroke\"]\n",
    "X.isna().sum()"
   ]
  },
  {
   "cell_type": "code",
   "execution_count": 157,
   "metadata": {
    "executionInfo": {
     "elapsed": 11104,
     "status": "ok",
     "timestamp": 1620900821217,
     "user": {
      "displayName": "Sannan uzair",
      "photoUrl": "https://lh3.googleusercontent.com/a-/AOh14GgiuW4D3dSDM0jgt9pmffE9IB14_iustfe4XWa5nQ=s64",
      "userId": "05625466627393382408"
     },
     "user_tz": -300
    },
    "id": "FRcG2LuGNxje"
   },
   "outputs": [],
   "source": [
    "X.gender = (X.gender.fillna(1))"
   ]
  },
  {
   "cell_type": "code",
   "execution_count": 158,
   "metadata": {
    "colab": {
     "base_uri": "https://localhost:8080/"
    },
    "executionInfo": {
     "elapsed": 11090,
     "status": "ok",
     "timestamp": 1620900821218,
     "user": {
      "displayName": "Sannan uzair",
      "photoUrl": "https://lh3.googleusercontent.com/a-/AOh14GgiuW4D3dSDM0jgt9pmffE9IB14_iustfe4XWa5nQ=s64",
      "userId": "05625466627393382408"
     },
     "user_tz": -300
    },
    "id": "ljqIwLjsQQSv",
    "outputId": "0dc02176-b169-44a8-cc0f-06d67d789b9b"
   },
   "outputs": [
    {
     "data": {
      "text/plain": [
       "id                   0\n",
       "gender               0\n",
       "age                  0\n",
       "hypertension         0\n",
       "heart_disease        0\n",
       "ever_married         0\n",
       "work_type            0\n",
       "Residence_type       0\n",
       "avg_glucose_level    0\n",
       "bmi                  0\n",
       "smoking_status       0\n",
       "dtype: int64"
      ]
     },
     "execution_count": 158,
     "metadata": {
      "tags": []
     },
     "output_type": "execute_result"
    }
   ],
   "source": [
    "X.isna().sum()"
   ]
  },
  {
   "cell_type": "code",
   "execution_count": 159,
   "metadata": {
    "colab": {
     "base_uri": "https://localhost:8080/"
    },
    "executionInfo": {
     "elapsed": 11077,
     "status": "ok",
     "timestamp": 1620900821219,
     "user": {
      "displayName": "Sannan uzair",
      "photoUrl": "https://lh3.googleusercontent.com/a-/AOh14GgiuW4D3dSDM0jgt9pmffE9IB14_iustfe4XWa5nQ=s64",
      "userId": "05625466627393382408"
     },
     "user_tz": -300
    },
    "id": "f-RLtwNaQTLJ",
    "outputId": "344a3f2f-63b9-4e4e-a89b-7fcd6b190218"
   },
   "outputs": [
    {
     "name": "stderr",
     "output_type": "stream",
     "text": [
      "/usr/local/lib/python3.7/dist-packages/sklearn/utils/deprecation.py:87: FutureWarning: Function safe_indexing is deprecated; safe_indexing is deprecated in version 0.22 and will be removed in version 0.24.\n",
      "  warnings.warn(msg, category=FutureWarning)\n"
     ]
    }
   ],
   "source": [
    "from imblearn.over_sampling import SMOTE\n",
    "\n",
    "smote = SMOTE()\n",
    "x_smote, y_smote = smote.fit_resample(X, y)"
   ]
  },
  {
   "cell_type": "code",
   "execution_count": 160,
   "metadata": {
    "executionInfo": {
     "elapsed": 11067,
     "status": "ok",
     "timestamp": 1620900821220,
     "user": {
      "displayName": "Sannan uzair",
      "photoUrl": "https://lh3.googleusercontent.com/a-/AOh14GgiuW4D3dSDM0jgt9pmffE9IB14_iustfe4XWa5nQ=s64",
      "userId": "05625466627393382408"
     },
     "user_tz": -300
    },
    "id": "05wADiK6QleR"
   },
   "outputs": [],
   "source": [
    "from sklearn.model_selection import train_test_split\n",
    "X_train,X_test, y_train,y_test=train_test_split(x_smote,y_smote,test_size=0.33,random_state=42)\n",
    "X_train, X_test, y_train, y_test = train_test_split(X, y, test_size=0.3, random_state=42)"
   ]
  },
  {
   "cell_type": "code",
   "execution_count": 161,
   "metadata": {
    "colab": {
     "base_uri": "https://localhost:8080/"
    },
    "executionInfo": {
     "elapsed": 11059,
     "status": "ok",
     "timestamp": 1620900821221,
     "user": {
      "displayName": "Sannan uzair",
      "photoUrl": "https://lh3.googleusercontent.com/a-/AOh14GgiuW4D3dSDM0jgt9pmffE9IB14_iustfe4XWa5nQ=s64",
      "userId": "05625466627393382408"
     },
     "user_tz": -300
    },
    "id": "_AxcEuFIG0Sa",
    "outputId": "2fe9ab85-f4ff-4f52-811f-48a6119ae6a3"
   },
   "outputs": [
    {
     "data": {
      "text/plain": [
       "4688    40041\n",
       "4478    55244\n",
       "3849    70992\n",
       "4355    38207\n",
       "3826     8541\n",
       "        ...  \n",
       "818      7663\n",
       "4829    66067\n",
       "611     30753\n",
       "3082    66270\n",
       "3407    10243\n",
       "Name: id, Length: 1533, dtype: int64"
      ]
     },
     "execution_count": 161,
     "metadata": {
      "tags": []
     },
     "output_type": "execute_result"
    }
   ],
   "source": [
    "X_test['id']"
   ]
  },
  {
   "cell_type": "code",
   "execution_count": 162,
   "metadata": {
    "executionInfo": {
     "elapsed": 11048,
     "status": "ok",
     "timestamp": 1620900821222,
     "user": {
      "displayName": "Sannan uzair",
      "photoUrl": "https://lh3.googleusercontent.com/a-/AOh14GgiuW4D3dSDM0jgt9pmffE9IB14_iustfe4XWa5nQ=s64",
      "userId": "05625466627393382408"
     },
     "user_tz": -300
    },
    "id": "HZ6Vz7OyG7tR"
   },
   "outputs": [],
   "source": [
    "X_train = X_train.drop(columns=[\"id\"])\n",
    "X_test = X_test.drop(columns=[\"id\"])"
   ]
  },
  {
   "cell_type": "code",
   "execution_count": 163,
   "metadata": {
    "executionInfo": {
     "elapsed": 11039,
     "status": "ok",
     "timestamp": 1620900821222,
     "user": {
      "displayName": "Sannan uzair",
      "photoUrl": "https://lh3.googleusercontent.com/a-/AOh14GgiuW4D3dSDM0jgt9pmffE9IB14_iustfe4XWa5nQ=s64",
      "userId": "05625466627393382408"
     },
     "user_tz": -300
    },
    "id": "Avw1XifLHIPJ"
   },
   "outputs": [],
   "source": [
    "from sklearn.preprocessing import StandardScaler\n",
    "\n",
    "sc = StandardScaler()\n",
    "X_train = sc.fit_transform(X_train)\n",
    "X_test = sc.fit_transform(X_test)"
   ]
  },
  {
   "cell_type": "code",
   "execution_count": 164,
   "metadata": {
    "colab": {
     "base_uri": "https://localhost:8080/"
    },
    "executionInfo": {
     "elapsed": 11031,
     "status": "ok",
     "timestamp": 1620900821223,
     "user": {
      "displayName": "Sannan uzair",
      "photoUrl": "https://lh3.googleusercontent.com/a-/AOh14GgiuW4D3dSDM0jgt9pmffE9IB14_iustfe4XWa5nQ=s64",
      "userId": "05625466627393382408"
     },
     "user_tz": -300
    },
    "id": "e-AdfCZTHVuS",
    "outputId": "7d7fd359-0b93-48dd-e3c4-fdad3e15a336"
   },
   "outputs": [
    {
     "data": {
      "text/plain": [
       "array([[-1.18418048, -1.7467638 , -0.31719928, ..., -0.340693  ,\n",
       "        -1.64928796,  1.30971804],\n",
       "       [-1.18418048, -0.63635252, -0.31719928, ...,  2.26654137,\n",
       "        -0.7916468 ,  0.39506333],\n",
       "       [-1.18418048,  0.02989425,  3.15259225, ..., -0.32155489,\n",
       "        -0.31084797, -0.51959138],\n",
       "       ...,\n",
       "       [ 0.84446587, -1.87290652, -0.31719928, ..., -0.18803315,\n",
       "        -1.44137495,  1.30971804],\n",
       "       [-1.18418048,  1.62888649, -0.31719928, ...,  2.01062472,\n",
       "         0.27390737, -1.43424609],\n",
       "       [ 0.84446587,  0.11872715, -0.31719928, ..., -0.12416526,\n",
       "         2.78185803,  0.39506333]])"
      ]
     },
     "execution_count": 164,
     "metadata": {
      "tags": []
     },
     "output_type": "execute_result"
    }
   ],
   "source": [
    "X_train"
   ]
  },
  {
   "cell_type": "code",
   "execution_count": 165,
   "metadata": {
    "colab": {
     "base_uri": "https://localhost:8080/"
    },
    "executionInfo": {
     "elapsed": 11020,
     "status": "ok",
     "timestamp": 1620900821224,
     "user": {
      "displayName": "Sannan uzair",
      "photoUrl": "https://lh3.googleusercontent.com/a-/AOh14GgiuW4D3dSDM0jgt9pmffE9IB14_iustfe4XWa5nQ=s64",
      "userId": "05625466627393382408"
     },
     "user_tz": -300
    },
    "id": "5z9L7N3rHXcm",
    "outputId": "4591f5ee-5bcf-4ab2-b915-c316a373a7cf"
   },
   "outputs": [
    {
     "data": {
      "text/plain": [
       "array([[-1.20369506, -0.52525515, -0.35433129, ..., -0.91790892,\n",
       "        -0.76293041,  1.26122257],\n",
       "       [-1.20369506, -0.13106694, -0.35433129, ..., -0.9083549 ,\n",
       "        -0.07475269, -0.57491627],\n",
       "       [ 0.8307752 , -1.53262504, -0.35433129, ..., -0.710109  ,\n",
       "        -0.82785283,  1.26122257],\n",
       "       ...,\n",
       "       [-1.20369506, -0.04346956, -0.35433129, ..., -0.28951502,\n",
       "        -0.21758203, -0.57491627],\n",
       "       [ 0.8307752 ,  0.6135108 , -0.35433129, ..., -0.81911167,\n",
       "        -0.63308556,  1.26122257],\n",
       "       [ 0.8307752 ,  0.74490687, -0.35433129, ..., -0.74007388,\n",
       "        -0.46428725, -0.57491627]])"
      ]
     },
     "execution_count": 165,
     "metadata": {
      "tags": []
     },
     "output_type": "execute_result"
    }
   ],
   "source": [
    "X_test"
   ]
  },
  {
   "cell_type": "code",
   "execution_count": 166,
   "metadata": {
    "colab": {
     "base_uri": "https://localhost:8080/"
    },
    "executionInfo": {
     "elapsed": 11008,
     "status": "ok",
     "timestamp": 1620900821225,
     "user": {
      "displayName": "Sannan uzair",
      "photoUrl": "https://lh3.googleusercontent.com/a-/AOh14GgiuW4D3dSDM0jgt9pmffE9IB14_iustfe4XWa5nQ=s64",
      "userId": "05625466627393382408"
     },
     "user_tz": -300
    },
    "id": "Xyq0rGHKHZWx",
    "outputId": "85f1df46-a556-40e6-ac0e-ba3b67c7a319"
   },
   "outputs": [
    {
     "data": {
      "text/plain": [
       "LogisticRegression(C=1.0, class_weight=None, dual=False, fit_intercept=True,\n",
       "                   intercept_scaling=1, l1_ratio=None, max_iter=100,\n",
       "                   multi_class='auto', n_jobs=None, penalty='l2',\n",
       "                   random_state=None, solver='lbfgs', tol=0.0001, verbose=0,\n",
       "                   warm_start=False)"
      ]
     },
     "execution_count": 166,
     "metadata": {
      "tags": []
     },
     "output_type": "execute_result"
    }
   ],
   "source": [
    "from sklearn.linear_model import LogisticRegression\n",
    "\n",
    "model = LogisticRegression()\n",
    "model.fit(X_train, y_train)"
   ]
  },
  {
   "cell_type": "code",
   "execution_count": 167,
   "metadata": {
    "colab": {
     "base_uri": "https://localhost:8080/"
    },
    "executionInfo": {
     "elapsed": 10996,
     "status": "ok",
     "timestamp": 1620900821226,
     "user": {
      "displayName": "Sannan uzair",
      "photoUrl": "https://lh3.googleusercontent.com/a-/AOh14GgiuW4D3dSDM0jgt9pmffE9IB14_iustfe4XWa5nQ=s64",
      "userId": "05625466627393382408"
     },
     "user_tz": -300
    },
    "id": "RvFaU8n2HjwI",
    "outputId": "b0e26d00-d99a-40f4-ed2d-271580a15797"
   },
   "outputs": [
    {
     "data": {
      "text/plain": [
       "array([0, 0, 0, ..., 0, 0, 0])"
      ]
     },
     "execution_count": 167,
     "metadata": {
      "tags": []
     },
     "output_type": "execute_result"
    }
   ],
   "source": [
    "y_preds = model.predict(X_test)\n",
    "y_preds"
   ]
  },
  {
   "cell_type": "code",
   "execution_count": 168,
   "metadata": {
    "colab": {
     "base_uri": "https://localhost:8080/"
    },
    "executionInfo": {
     "elapsed": 11684,
     "status": "ok",
     "timestamp": 1620900821926,
     "user": {
      "displayName": "Sannan uzair",
      "photoUrl": "https://lh3.googleusercontent.com/a-/AOh14GgiuW4D3dSDM0jgt9pmffE9IB14_iustfe4XWa5nQ=s64",
      "userId": "05625466627393382408"
     },
     "user_tz": -300
    },
    "id": "bet2i03OHswP",
    "outputId": "cf3587d1-0cdf-449d-8544-8569463118b0"
   },
   "outputs": [
    {
     "name": "stderr",
     "output_type": "stream",
     "text": [
      "/usr/local/lib/python3.7/dist-packages/sklearn/metrics/_classification.py:1272: UndefinedMetricWarning: Precision and F-score are ill-defined and being set to 0.0 in labels with no predicted samples. Use `zero_division` parameter to control this behavior.\n",
      "  _warn_prf(average, modifier, msg_start, len(result))\n"
     ]
    },
    {
     "name": "stdout",
     "output_type": "stream",
     "text": [
      "              precision    recall  f1-score   support\n",
      "\n",
      "           0       0.94      1.00      0.97      1444\n",
      "           1       0.00      0.00      0.00        89\n",
      "\n",
      "    accuracy                           0.94      1533\n",
      "   macro avg       0.47      0.50      0.49      1533\n",
      "weighted avg       0.89      0.94      0.91      1533\n",
      "\n"
     ]
    }
   ],
   "source": [
    "from sklearn.metrics import f1_score, roc_auc_score, precision_score, roc_curve, confusion_matrix\n",
    "from sklearn.metrics import classification_report, precision_recall_curve, auc, accuracy_score\n",
    "\n",
    "print(classification_report(y_test, y_preds))"
   ]
  },
  {
   "cell_type": "code",
   "execution_count": 169,
   "metadata": {
    "colab": {
     "base_uri": "https://localhost:8080/"
    },
    "executionInfo": {
     "elapsed": 11673,
     "status": "ok",
     "timestamp": 1620900821928,
     "user": {
      "displayName": "Sannan uzair",
      "photoUrl": "https://lh3.googleusercontent.com/a-/AOh14GgiuW4D3dSDM0jgt9pmffE9IB14_iustfe4XWa5nQ=s64",
      "userId": "05625466627393382408"
     },
     "user_tz": -300
    },
    "id": "uYj3-4OLIUIe",
    "outputId": "572d0099-9d27-49c8-cbf7-4f43315a4e81"
   },
   "outputs": [
    {
     "data": {
      "text/plain": [
       "0.5"
      ]
     },
     "execution_count": 169,
     "metadata": {
      "tags": []
     },
     "output_type": "execute_result"
    }
   ],
   "source": [
    "roc_auc_score(y_test, y_preds)"
   ]
  },
  {
   "cell_type": "code",
   "execution_count": 170,
   "metadata": {
    "colab": {
     "base_uri": "https://localhost:8080/"
    },
    "executionInfo": {
     "elapsed": 11662,
     "status": "ok",
     "timestamp": 1620900821929,
     "user": {
      "displayName": "Sannan uzair",
      "photoUrl": "https://lh3.googleusercontent.com/a-/AOh14GgiuW4D3dSDM0jgt9pmffE9IB14_iustfe4XWa5nQ=s64",
      "userId": "05625466627393382408"
     },
     "user_tz": -300
    },
    "id": "sCKUIG3VI0gA",
    "outputId": "1382e780-fb72-4ced-e11c-d931634b5864"
   },
   "outputs": [
    {
     "name": "stdout",
     "output_type": "stream",
     "text": [
      "[[1444    0]\n",
      " [  89    0]]\n"
     ]
    }
   ],
   "source": [
    "print(confusion_matrix(y_test, y_preds))"
   ]
  },
  {
   "cell_type": "code",
   "execution_count": 171,
   "metadata": {
    "colab": {
     "base_uri": "https://localhost:8080/"
    },
    "executionInfo": {
     "elapsed": 11653,
     "status": "ok",
     "timestamp": 1620900821932,
     "user": {
      "displayName": "Sannan uzair",
      "photoUrl": "https://lh3.googleusercontent.com/a-/AOh14GgiuW4D3dSDM0jgt9pmffE9IB14_iustfe4XWa5nQ=s64",
      "userId": "05625466627393382408"
     },
     "user_tz": -300
    },
    "id": "ksf00ZESI6zg",
    "outputId": "38d98ddf-7a65-4caf-ab4b-e61b52776ead"
   },
   "outputs": [
    {
     "data": {
      "text/plain": [
       "array([0.00801998, 0.00839925, 0.0016515 , ..., 0.01104799, 0.03697589,\n",
       "       0.03507251])"
      ]
     },
     "execution_count": 171,
     "metadata": {
      "tags": []
     },
     "output_type": "execute_result"
    }
   ],
   "source": [
    "y_probs = model.predict_proba(X_test)[:,1]\n",
    "y_probs"
   ]
  },
  {
   "cell_type": "code",
   "execution_count": 190,
   "metadata": {
    "colab": {
     "base_uri": "https://localhost:8080/",
     "height": 394
    },
    "executionInfo": {
     "elapsed": 1042,
     "status": "ok",
     "timestamp": 1620901342559,
     "user": {
      "displayName": "Sannan uzair",
      "photoUrl": "https://lh3.googleusercontent.com/a-/AOh14GgiuW4D3dSDM0jgt9pmffE9IB14_iustfe4XWa5nQ=s64",
      "userId": "05625466627393382408"
     },
     "user_tz": -300
    },
    "id": "EC9fBydpJ93T",
    "outputId": "192d6327-07ca-4d0c-e777-ebb41117538c"
   },
   "outputs": [
    {
     "data": {
      "image/png": "[encoded data removed]",
      "text/plain": [
       "<Figure size 576x432 with 1 Axes>"
      ]
     },
     "metadata": {
      "tags": []
     },
     "output_type": "display_data"
    }
   ],
   "source": [
    "fpr, tpr, thresholds = roc_curve(y_test, y_probs)\n",
    "roc_auc = auc(fpr, tpr)\n",
    "sns.set_theme(style=\"darkgrid\")\n",
    "plt.figure(figsize=(8,6))\n",
    "plt.plot(fpr, tpr, color=\"green\", label = \"Logistic Regression (AUC)\")\n",
    "plt.plot([0,1],[0,1], color=\"red\", linestyle=\"--\")\n",
    "plt.legend(loc=\"lower right\")\n",
    "plt.axis(\"tight\")\n",
    "plt.xlabel(\"False Positive Rate\")\n",
    "plt.ylabel(\"True Positive Rate\")\n",
    "plt.show()"
   ]
  },
  {
   "cell_type": "code",
   "execution_count": 173,
   "metadata": {
    "colab": {
     "base_uri": "https://localhost:8080/"
    },
    "executionInfo": {
     "elapsed": 12526,
     "status": "ok",
     "timestamp": 1620900822831,
     "user": {
      "displayName": "Sannan uzair",
      "photoUrl": "https://lh3.googleusercontent.com/a-/AOh14GgiuW4D3dSDM0jgt9pmffE9IB14_iustfe4XWa5nQ=s64",
      "userId": "05625466627393382408"
     },
     "user_tz": -300
    },
    "id": "GmXBksG2Kw7p",
    "outputId": "d8f9ad50-2953-48f2-eb07-89c374d2fff2"
   },
   "outputs": [
    {
     "data": {
      "text/plain": [
       "RandomForestClassifier(bootstrap=True, ccp_alpha=0.0, class_weight=None,\n",
       "                       criterion='gini', max_depth=None, max_features='auto',\n",
       "                       max_leaf_nodes=None, max_samples=None,\n",
       "                       min_impurity_decrease=0.0, min_impurity_split=None,\n",
       "                       min_samples_leaf=1, min_samples_split=2,\n",
       "                       min_weight_fraction_leaf=0.0, n_estimators=100,\n",
       "                       n_jobs=None, oob_score=False, random_state=None,\n",
       "                       verbose=0, warm_start=False)"
      ]
     },
     "execution_count": 173,
     "metadata": {
      "tags": []
     },
     "output_type": "execute_result"
    }
   ],
   "source": [
    "from sklearn.ensemble import RandomForestClassifier\n",
    "\n",
    "rfc = RandomForestClassifier()\n",
    "rfc.fit(X_train, y_train)"
   ]
  },
  {
   "cell_type": "code",
   "execution_count": 179,
   "metadata": {
    "colab": {
     "base_uri": "https://localhost:8080/"
    },
    "executionInfo": {
     "elapsed": 955,
     "status": "ok",
     "timestamp": 1620900841087,
     "user": {
      "displayName": "Sannan uzair",
      "photoUrl": "https://lh3.googleusercontent.com/a-/AOh14GgiuW4D3dSDM0jgt9pmffE9IB14_iustfe4XWa5nQ=s64",
      "userId": "05625466627393382408"
     },
     "user_tz": -300
    },
    "id": "u36G_CzKLb3u",
    "outputId": "7cd3a9ae-fd42-4482-c08c-fb14d51bad18"
   },
   "outputs": [
    {
     "data": {
      "text/plain": [
       "0.5"
      ]
     },
     "execution_count": 179,
     "metadata": {
      "tags": []
     },
     "output_type": "execute_result"
    }
   ],
   "source": [
    "y1_preds = rfc.predict(X_test)\n",
    "roc_auc_score(y_test, y1_preds)"
   ]
  },
  {
   "cell_type": "code",
   "execution_count": 175,
   "metadata": {
    "colab": {
     "base_uri": "https://localhost:8080/"
    },
    "executionInfo": {
     "elapsed": 12498,
     "status": "ok",
     "timestamp": 1620900822834,
     "user": {
      "displayName": "Sannan uzair",
      "photoUrl": "https://lh3.googleusercontent.com/a-/AOh14GgiuW4D3dSDM0jgt9pmffE9IB14_iustfe4XWa5nQ=s64",
      "userId": "05625466627393382408"
     },
     "user_tz": -300
    },
    "id": "m-uDuHTCLe8z",
    "outputId": "f273134e-42e5-4d1f-b859-d6a4f7b0bb52"
   },
   "outputs": [
    {
     "data": {
      "text/plain": [
       "array([[1444,    0],\n",
       "       [  89,    0]])"
      ]
     },
     "execution_count": 175,
     "metadata": {
      "tags": []
     },
     "output_type": "execute_result"
    }
   ],
   "source": [
    "cm = confusion_matrix(y_test, y1_preds)\n",
    "cm"
   ]
  },
  {
   "cell_type": "code",
   "execution_count": 176,
   "metadata": {
    "colab": {
     "base_uri": "https://localhost:8080/"
    },
    "executionInfo": {
     "elapsed": 12485,
     "status": "ok",
     "timestamp": 1620900822836,
     "user": {
      "displayName": "Sannan uzair",
      "photoUrl": "https://lh3.googleusercontent.com/a-/AOh14GgiuW4D3dSDM0jgt9pmffE9IB14_iustfe4XWa5nQ=s64",
      "userId": "05625466627393382408"
     },
     "user_tz": -300
    },
    "id": "7PZQLgPsMEWB",
    "outputId": "28be1d56-e25f-4f50-ac06-68edb9d592c9"
   },
   "outputs": [
    {
     "name": "stdout",
     "output_type": "stream",
     "text": [
      "              precision    recall  f1-score   support\n",
      "\n",
      "           0       0.94      1.00      0.97      1444\n",
      "           1       0.00      0.00      0.00        89\n",
      "\n",
      "    accuracy                           0.94      1533\n",
      "   macro avg       0.47      0.50      0.49      1533\n",
      "weighted avg       0.89      0.94      0.91      1533\n",
      "\n"
     ]
    },
    {
     "name": "stderr",
     "output_type": "stream",
     "text": [
      "/usr/local/lib/python3.7/dist-packages/sklearn/metrics/_classification.py:1272: UndefinedMetricWarning: Precision and F-score are ill-defined and being set to 0.0 in labels with no predicted samples. Use `zero_division` parameter to control this behavior.\n",
      "  _warn_prf(average, modifier, msg_start, len(result))\n"
     ]
    }
   ],
   "source": [
    "print(classification_report(y_test, y1_preds))"
   ]
  },
  {
   "cell_type": "code",
   "execution_count": 177,
   "metadata": {
    "colab": {
     "base_uri": "https://localhost:8080/"
    },
    "executionInfo": {
     "elapsed": 12471,
     "status": "ok",
     "timestamp": 1620900822838,
     "user": {
      "displayName": "Sannan uzair",
      "photoUrl": "https://lh3.googleusercontent.com/a-/AOh14GgiuW4D3dSDM0jgt9pmffE9IB14_iustfe4XWa5nQ=s64",
      "userId": "05625466627393382408"
     },
     "user_tz": -300
    },
    "id": "K6Ds7yaDMWXS",
    "outputId": "38e555b9-d6e2-432c-873a-6e6a3a35d0b5"
   },
   "outputs": [
    {
     "data": {
      "text/plain": [
       "array([0.  , 0.  , 0.  , ..., 0.  , 0.03, 0.  ])"
      ]
     },
     "execution_count": 177,
     "metadata": {
      "tags": []
     },
     "output_type": "execute_result"
    }
   ],
   "source": [
    "y1_probs = rfc.predict_proba(X_test)[:,1]\n",
    "y1_probs"
   ]
  },
  {
   "cell_type": "code",
   "execution_count": 191,
   "metadata": {
    "colab": {
     "base_uri": "https://localhost:8080/",
     "height": 394
    },
    "executionInfo": {
     "elapsed": 1141,
     "status": "ok",
     "timestamp": 1620901348550,
     "user": {
      "displayName": "Sannan uzair",
      "photoUrl": "https://lh3.googleusercontent.com/a-/AOh14GgiuW4D3dSDM0jgt9pmffE9IB14_iustfe4XWa5nQ=s64",
      "userId": "05625466627393382408"
     },
     "user_tz": -300
    },
    "id": "vtwcJ_ShMknT",
    "outputId": "2e04f581-fb04-4142-8969-526391f1b882"
   },
   "outputs": [
    {
     "data": {
      "image/png": "[encoded data removed]",
      "text/plain": [
       "<Figure size 576x432 with 1 Axes>"
      ]
     },
     "metadata": {
      "tags": []
     },
     "output_type": "display_data"
    }
   ],
   "source": [
    "fpr, tpr, thresholds = roc_curve(y_test, y1_probs)\n",
    "roc_auc = auc(fpr, tpr)\n",
    "plt.figure(figsize=(8,6))\n",
    "sns.set_theme(style=\"darkgrid\")\n",
    "plt.plot(fpr, tpr, color=\"gray\", label = \"RandomForestClassifier (AUC)\")\n",
    "plt.plot([0,1],[0,1], linestyle='--', color=\"black\")\n",
    "plt.xlabel(\"False Positive Rate\")\n",
    "plt.ylabel(\"True Positive Rate\")\n",
    "plt.legend(loc=\"lower right\")\n",
    "plt.axis(\"tight\")\n",
    "plt.show()"
   ]
  },
  {
   "cell_type": "code",
   "execution_count": 180,
   "metadata": {
    "colab": {
     "base_uri": "https://localhost:8080/"
    },
    "executionInfo": {
     "elapsed": 1409,
     "status": "ok",
     "timestamp": 1620900912107,
     "user": {
      "displayName": "Sannan uzair",
      "photoUrl": "https://lh3.googleusercontent.com/a-/AOh14GgiuW4D3dSDM0jgt9pmffE9IB14_iustfe4XWa5nQ=s64",
      "userId": "05625466627393382408"
     },
     "user_tz": -300
    },
    "id": "f-yKaAuKNiiI",
    "outputId": "6c58369c-16b9-4b1d-a5ae-7953521a1765"
   },
   "outputs": [
    {
     "data": {
      "text/plain": [
       "XGBClassifier(base_score=0.5, booster='gbtree', colsample_bylevel=1,\n",
       "              colsample_bynode=1, colsample_bytree=1, gamma=0,\n",
       "              learning_rate=0.1, max_delta_step=0, max_depth=3,\n",
       "              min_child_weight=1, missing=None, n_estimators=100, n_jobs=1,\n",
       "              nthread=None, objective='binary:logistic', random_state=0,\n",
       "              reg_alpha=0, reg_lambda=1, scale_pos_weight=1, seed=None,\n",
       "              silent=None, subsample=1, verbosity=1)"
      ]
     },
     "execution_count": 180,
     "metadata": {
      "tags": []
     },
     "output_type": "execute_result"
    }
   ],
   "source": [
    "import xgboost as xgb\n",
    "\n",
    "model = xgb.XGBClassifier()\n",
    "model.fit(X_train , y_train)"
   ]
  },
  {
   "cell_type": "code",
   "execution_count": 181,
   "metadata": {
    "executionInfo": {
     "elapsed": 848,
     "status": "ok",
     "timestamp": 1620900929222,
     "user": {
      "displayName": "Sannan uzair",
      "photoUrl": "https://lh3.googleusercontent.com/a-/AOh14GgiuW4D3dSDM0jgt9pmffE9IB14_iustfe4XWa5nQ=s64",
      "userId": "05625466627393382408"
     },
     "user_tz": -300
    },
    "id": "T3zYPDnaORXd"
   },
   "outputs": [],
   "source": [
    "y_preds = model.predict(X_test)"
   ]
  },
  {
   "cell_type": "code",
   "execution_count": 184,
   "metadata": {
    "colab": {
     "base_uri": "https://localhost:8080/"
    },
    "executionInfo": {
     "elapsed": 840,
     "status": "ok",
     "timestamp": 1620900958685,
     "user": {
      "displayName": "Sannan uzair",
      "photoUrl": "https://lh3.googleusercontent.com/a-/AOh14GgiuW4D3dSDM0jgt9pmffE9IB14_iustfe4XWa5nQ=s64",
      "userId": "05625466627393382408"
     },
     "user_tz": -300
    },
    "id": "7Dqc01jcOVsg",
    "outputId": "5e9dabb3-d0b1-4c93-aad4-f02eb0aee44c"
   },
   "outputs": [
    {
     "data": {
      "text/plain": [
       "0.5"
      ]
     },
     "execution_count": 184,
     "metadata": {
      "tags": []
     },
     "output_type": "execute_result"
    }
   ],
   "source": [
    "roc_auc_score(y_test, y_preds)"
   ]
  },
  {
   "cell_type": "code",
   "execution_count": 185,
   "metadata": {
    "colab": {
     "base_uri": "https://localhost:8080/"
    },
    "executionInfo": {
     "elapsed": 924,
     "status": "ok",
     "timestamp": 1620900976355,
     "user": {
      "displayName": "Sannan uzair",
      "photoUrl": "https://lh3.googleusercontent.com/a-/AOh14GgiuW4D3dSDM0jgt9pmffE9IB14_iustfe4XWa5nQ=s64",
      "userId": "05625466627393382408"
     },
     "user_tz": -300
    },
    "id": "lvBuJerIOeJS",
    "outputId": "98b6797c-9b56-4ffe-ddc5-1f159411bee4"
   },
   "outputs": [
    {
     "data": {
      "text/plain": [
       "array([[1444,    0],\n",
       "       [  89,    0]])"
      ]
     },
     "execution_count": 185,
     "metadata": {
      "tags": []
     },
     "output_type": "execute_result"
    }
   ],
   "source": [
    "confusion_matrix(y_test, y_preds)"
   ]
  },
  {
   "cell_type": "code",
   "execution_count": 187,
   "metadata": {
    "colab": {
     "base_uri": "https://localhost:8080/"
    },
    "executionInfo": {
     "elapsed": 930,
     "status": "ok",
     "timestamp": 1620901005342,
     "user": {
      "displayName": "Sannan uzair",
      "photoUrl": "https://lh3.googleusercontent.com/a-/AOh14GgiuW4D3dSDM0jgt9pmffE9IB14_iustfe4XWa5nQ=s64",
      "userId": "05625466627393382408"
     },
     "user_tz": -300
    },
    "id": "HeAjNKjTOg-e",
    "outputId": "3d69c453-7a8d-4925-88a8-e516d55c27a9"
   },
   "outputs": [
    {
     "name": "stdout",
     "output_type": "stream",
     "text": [
      "              precision    recall  f1-score   support\n",
      "\n",
      "           0       0.94      1.00      0.97      1444\n",
      "           1       0.00      0.00      0.00        89\n",
      "\n",
      "    accuracy                           0.94      1533\n",
      "   macro avg       0.47      0.50      0.49      1533\n",
      "weighted avg       0.89      0.94      0.91      1533\n",
      "\n"
     ]
    },
    {
     "name": "stderr",
     "output_type": "stream",
     "text": [
      "/usr/local/lib/python3.7/dist-packages/sklearn/metrics/_classification.py:1272: UndefinedMetricWarning: Precision and F-score are ill-defined and being set to 0.0 in labels with no predicted samples. Use `zero_division` parameter to control this behavior.\n",
      "  _warn_prf(average, modifier, msg_start, len(result))\n"
     ]
    }
   ],
   "source": [
    "print(classification_report(y_test, y_preds))"
   ]
  },
  {
   "cell_type": "code",
   "execution_count": 188,
   "metadata": {
    "colab": {
     "base_uri": "https://localhost:8080/"
    },
    "executionInfo": {
     "elapsed": 1037,
     "status": "ok",
     "timestamp": 1620901070368,
     "user": {
      "displayName": "Sannan uzair",
      "photoUrl": "https://lh3.googleusercontent.com/a-/AOh14GgiuW4D3dSDM0jgt9pmffE9IB14_iustfe4XWa5nQ=s64",
      "userId": "05625466627393382408"
     },
     "user_tz": -300
    },
    "id": "MeFROJEpOlPy",
    "outputId": "531aae3f-8862-4565-b585-f6cdfb1e23cd"
   },
   "outputs": [
    {
     "data": {
      "text/plain": [
       "array([0.00266556, 0.00465041, 0.00312853, ..., 0.00575704, 0.06258173,\n",
       "       0.03172918], dtype=float32)"
      ]
     },
     "execution_count": 188,
     "metadata": {
      "tags": []
     },
     "output_type": "execute_result"
    }
   ],
   "source": [
    "y_probs = model.predict_proba(X_test)[:,1]\n",
    "y_probs"
   ]
  },
  {
   "cell_type": "code",
   "execution_count": 189,
   "metadata": {
    "colab": {
     "base_uri": "https://localhost:8080/",
     "height": 394
    },
    "executionInfo": {
     "elapsed": 1050,
     "status": "ok",
     "timestamp": 1620901299037,
     "user": {
      "displayName": "Sannan uzair",
      "photoUrl": "https://lh3.googleusercontent.com/a-/AOh14GgiuW4D3dSDM0jgt9pmffE9IB14_iustfe4XWa5nQ=s64",
      "userId": "05625466627393382408"
     },
     "user_tz": -300
    },
    "id": "y4nAKN8wO4F1",
    "outputId": "cf7b5154-c4dd-4db6-e409-46ffed9138c1"
   },
   "outputs": [
    {
     "data": {
      "image/png": "[encoded data removed]",
      "text/plain": [
       "<Figure size 576x432 with 1 Axes>"
      ]
     },
     "metadata": {
      "tags": []
     },
     "output_type": "display_data"
    }
   ],
   "source": [
    "fpr, tpr, thresholds = roc_curve(y_test, y_probs)\n",
    "roc_auc = auc(fpr, tpr)\n",
    "plt.figure(figsize=(8,6))\n",
    "sns.set_theme(style=\"darkgrid\")\n",
    "plt.plot(fpr, tpr, color=\"blue\", label = \"XGB Boost Classifier (AUC)\")\n",
    "plt.plot([0,1],[0,1], linestyle='--',  color=\"orange\")\n",
    "plt.axis('tight')\n",
    "plt.xlabel(\"False Positive Rate\")\n",
    "plt.ylabel(\"True Positive Rate\")\n",
    "plt.legend(loc=\"lower right\")\n",
    "plt.show();"
   ]
  },
  {
   "cell_type": "code",
   "execution_count": null,
   "metadata": {
    "id": "0INVhCm4Pvzq"
   },
   "outputs": [],
   "source": []
  }
 ],
 "metadata": {
  "colab": {
   "authorship_tag": "ABX9TyNtTUnnw5kP2kdh492zEyZI",
   "collapsed_sections": [],
   "mount_file_id": "1UYNWavK7_iw8qEexnG6QHPBAAGTq2krn",
   "name": "data.ipynb",
   "provenance": []
  },
  "kernelspec": {
   "display_name": "Python 3",
   "language": "python",
   "name": "python3"
  },
  "language_info": {
   "codemirror_mode": {
    "name": "ipython",
    "version": 3
   },
   "file_extension": ".py",
   "mimetype": "text/x-python",
   "name": "python",
   "nbconvert_exporter": "python",
   "pygments_lexer": "ipython3",
   "version": "3.8.8"
  }
 },
 "nbformat": 4,
 "nbformat_minor": 1
}
